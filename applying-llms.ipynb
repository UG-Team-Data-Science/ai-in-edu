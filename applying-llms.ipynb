{
 "cells": [
  {
   "cell_type": "markdown",
   "id": "8e468b87-aee3-4760-8b77-42b134c617f5",
   "metadata": {},
   "source": [
    "### Imports and setup"
   ]
  },
  {
   "cell_type": "code",
   "execution_count": 1,
   "id": "10aac7a8-7d69-4059-bf74-d887ae8b05d1",
   "metadata": {},
   "outputs": [],
   "source": [
    "%matplotlib inline\n",
    "\n",
    "import matplotlib.pyplot as plt\n",
    "import pandas as pd\n",
    "from tqdm import tqdm\n",
    "from utils import get_json_from_text, prompt_model"
   ]
  },
  {
   "cell_type": "markdown",
   "id": "27b9c781-2cb8-495d-a3bf-fe94c6a8e11c",
   "metadata": {},
   "source": [
    "### Acknowledgement\n",
    "\n",
    "Task of structuring bibliographical entries from Benjamin Franklin's library adapted from the excellent [marginalia project](https://github.com/Pleias/marginalia/tree/main)'s example notebooks.\n",
    "\n",
    "![Drag Racing](franklin_first_page.png)"
   ]
  },
  {
   "cell_type": "code",
   "execution_count": 2,
   "id": "110cc23b-93ad-401f-bd6d-d3dcf5c9f6c4",
   "metadata": {},
   "outputs": [
    {
     "data": {
      "text/html": [
       "<div>\n",
       "<style scoped>\n",
       "    .dataframe tbody tr th:only-of-type {\n",
       "        vertical-align: middle;\n",
       "    }\n",
       "\n",
       "    .dataframe tbody tr th {\n",
       "        vertical-align: top;\n",
       "    }\n",
       "\n",
       "    .dataframe thead th {\n",
       "        text-align: right;\n",
       "    }\n",
       "</style>\n",
       "<table border=\"1\" class=\"dataframe\">\n",
       "  <thead>\n",
       "    <tr style=\"text-align: right;\">\n",
       "      <th></th>\n",
       "      <th>text</th>\n",
       "    </tr>\n",
       "  </thead>\n",
       "  <tbody>\n",
       "    <tr>\n",
       "      <th>0</th>\n",
       "      <td>FINE large Folio BIBLE, compleat, Oxford 1727.</td>\n",
       "    </tr>\n",
       "    <tr>\n",
       "      <th>1</th>\n",
       "      <td>Ditto, with Maps, Notes, &amp;c.</td>\n",
       "    </tr>\n",
       "    <tr>\n",
       "      <th>2</th>\n",
       "      <td>Clarendon's History of the Rebellion, 3 Vols</td>\n",
       "    </tr>\n",
       "    <tr>\n",
       "      <th>3</th>\n",
       "      <td>Bayley's universal etimologlcal Dictionary.</td>\n",
       "    </tr>\n",
       "    <tr>\n",
       "      <th>4</th>\n",
       "      <td>Marlorati Thesaurus Scripturae.</td>\n",
       "    </tr>\n",
       "  </tbody>\n",
       "</table>\n",
       "</div>"
      ],
      "text/plain": [
       "                                             text\n",
       "0  FINE large Folio BIBLE, compleat, Oxford 1727.\n",
       "1                    Ditto, with Maps, Notes, &c.\n",
       "2    Clarendon's History of the Rebellion, 3 Vols\n",
       "3     Bayley's universal etimologlcal Dictionary.\n",
       "4                 Marlorati Thesaurus Scripturae."
      ]
     },
     "execution_count": 2,
     "metadata": {},
     "output_type": "execute_result"
    }
   ],
   "source": [
    "df = pd.read_csv(\"franklin_library.csv\")\n",
    "df.head()"
   ]
  },
  {
   "cell_type": "markdown",
   "id": "b26bfa0a-904b-4712-892a-05f781fa8e68",
   "metadata": {},
   "source": [
    "## Zero-shot prompting"
   ]
  },
  {
   "cell_type": "code",
   "execution_count": 3,
   "id": "5dc790f3-7b51-4a15-b407-c3f1c5747f13",
   "metadata": {},
   "outputs": [
    {
     "name": "stdout",
     "output_type": "stream",
     "text": [
      "Here is the extracted bibliographic data in a JSON object:\n",
      "\n",
      "```\n",
      "{\n",
      "  \"author\": \"unknown (Bible)\",\n",
      "  \"title\": \"large Folio BIBLE\",\n",
      "  \"date\": \"1727\",\n",
      "  \"place\": \"Oxford\",\n",
      "  \"format\": \"Folio\",\n",
      "  \"other\": \"compleat\"\n",
      "}\n",
      "```\n",
      "\n",
      "Note: Since the author is not explicitly specified, I've annotated it as \"unknown (Bible)\" to reflect that it's a Bible publication, but the actual author is not provided.\n"
     ]
    }
   ],
   "source": [
    "prompt = \"\"\"\n",
    "Transform a book entry into structured bibliographic data.\n",
    "\n",
    "Extract the following bibliographic fields:\n",
    "- the author(s) of the book, which can be expressed with a possessive like Hobbes's (\"author\")\n",
    "- the title of the book (\"title\")\n",
    "- the translator(s) of the book (\"translator\")\n",
    "- the date of publication (\"date\")\n",
    "- the place of publication (\"place\")\n",
    "- any information related to the format such as volumes, folios (\"format\") \n",
    "- any other information related to the book (\"other\")\n",
    "\n",
    "Return the results as a valid JSON object structured like this:\n",
    "{\"author\": \"…\", \"title\": \"…\", \"translator\": \"…\", \"date\": \"…\", \"place\": \"…\", \"format\": \"…\", \"other\": \"…\"}\n",
    "\n",
    "The book entry:\n",
    "```\n",
    "FINE large Folio BIBLE, compleat, Oxford 1727.\n",
    "```\n",
    "\"\"\"\n",
    "\n",
    "\n",
    "print(prompt_model(prompt))"
   ]
  },
  {
   "cell_type": "markdown",
   "id": "51c4aa20-58e7-4661-841b-3542dd540dc4",
   "metadata": {},
   "source": [
    "## Few-shot prompting"
   ]
  },
  {
   "cell_type": "code",
   "execution_count": 4,
   "id": "19f6db63-9da1-4490-a5b6-17232eafafc7",
   "metadata": {},
   "outputs": [
    {
     "name": "stdout",
     "output_type": "stream",
     "text": [
      "Here is the extracted bibliographic data in JSON format:\n",
      "\n",
      "```\n",
      "{\n",
      "  \"author\": \"Clarendon's\",\n",
      "  \"title\": \"History of the Rebellion\",\n",
      "  \"translator\": null,\n",
      "  \"date\": null,\n",
      "  \"place\": null,\n",
      "  \"format\": \"3 Vol\",\n",
      "  \"other\": null\n",
      "}\n",
      "```\n"
     ]
    }
   ],
   "source": [
    "good_answer = \"\"\"\n",
    "Here is the extracted bibliographic data in JSON format:\n",
    "\n",
    "```\n",
    "{\n",
    "  \"author\": null,\n",
    "  \"title\": \"BIBLE\",\n",
    "  \"translator\": null,\n",
    "  \"date\": \"1727\",\n",
    "  \"place\": \"Oxford\",\n",
    "  \"format\": \"Folio\",\n",
    "  \"other\": \"compleat\"\n",
    "}\n",
    "```\n",
    "\"\"\"\n",
    "\n",
    "rebellion_question = \"\"\"\n",
    "Another book entry:\n",
    "```\n",
    "Clarendon's History of the Rebellion, 3 Vol\n",
    "```\n",
    "\"\"\"\n",
    "\n",
    "history = [\n",
    "    (prompt, good_answer),\n",
    "]\n",
    "\n",
    "print(prompt_model(rebellion_question, history))"
   ]
  },
  {
   "cell_type": "markdown",
   "id": "718b2ae5-5b36-4c2d-a011-5891e73a4d63",
   "metadata": {},
   "source": [
    "🧑‍💻 **Exercise** Use *History of the Rebellion* as a few-shot example as well by defining the `rebellion_answer` variable in the cell below. Then try to analyze book entry `Wiquefort's compleat Ambassador, translated by Digby, finely bound.` by defining `ambassador_question`."
   ]
  },
  {
   "cell_type": "code",
   "execution_count": null,
   "id": "eeb2fd16-cbf1-41c3-afe7-42b994a2e1e1",
   "metadata": {},
   "outputs": [],
   "source": [
    "rebellion_answer = \"\"\"\n",
    "<your answer here>\n",
    "\"\"\"\n",
    "\n",
    "ambassador_question = \"\"\"\n",
    "<your question regarding \"Wiquefort's compleat Ambassador, translated by Digby, finely bound.\" here>\n",
    "\"\"\"\n",
    "\n",
    "history = [(prompt, good_answer), (rebellion_question, rebellion_answer)]\n",
    "\n",
    "print(prompt_model(ambassador_question, history))"
   ]
  },
  {
   "cell_type": "markdown",
   "id": "f7e03154-f8d4-4560-b750-3b1fc0a91d77",
   "metadata": {},
   "source": [
    "🧑‍💻 **Exercise** Add a final example by defining `ambassador_answer` in the cell below. Test your prompt on the entry `Hobbes's Leviathan, very scarce.` by defining `new_question`."
   ]
  },
  {
   "cell_type": "code",
   "execution_count": null,
   "id": "fe8d9d64-afe5-44d8-8ff1-1da8fedfd87e",
   "metadata": {},
   "outputs": [],
   "source": [
    "ambassador_answer = \"\"\"\n",
    "<your answer regarding \"Wiquefort's compleat Ambassador, translated by Digby, finely bound.\" here>\n",
    "\"\"\"\n",
    "\n",
    "new_question = \"\"\"\n",
    "<your question regarding \"Hobbes's Leviathan, very scarce.\" here>\n",
    "\"\"\"\n",
    "\n",
    "history = [\n",
    "    (prompt, good_answer),\n",
    "    (rebellion_question, rebellion_answer),\n",
    "    (ambassador_question, ambassador_answer),\n",
    "]\n",
    "\n",
    "print(prompt_model(new_question, history))"
   ]
  },
  {
   "cell_type": "markdown",
   "id": "b792aaea-66b9-4370-a768-001200319c93",
   "metadata": {},
   "source": [
    "### Scaling up"
   ]
  },
  {
   "cell_type": "code",
   "execution_count": 7,
   "id": "cbdbb90d-aa8b-4fc2-b9e3-af10d7a81d39",
   "metadata": {},
   "outputs": [
    {
     "name": "stdout",
     "output_type": "stream",
     "text": [
      "\n",
      "Another book entry:\n",
      "```\n",
      "Hobbes's Leviathan, very scarce.\n",
      "```\n",
      "\n"
     ]
    }
   ],
   "source": [
    "new_question_template = \"\"\"\n",
    "Another book entry:\n",
    "```\n",
    "{entry}\n",
    "```\n",
    "\"\"\"\n",
    "\n",
    "print(new_question_template.format(entry=\"Hobbes's Leviathan, very scarce.\"))"
   ]
  },
  {
   "cell_type": "markdown",
   "id": "d89d3060-53c2-4603-9bc2-17f3f7f35817",
   "metadata": {},
   "source": [
    "🧑‍💻 **Action needed** Make sure that the *History of the Rebellion* and *Ambassador* questions and answers are used as additional examples in the call below by adding them as (question, answer) pairs to the chat history. You can simply remove the `# ` in front of each pair.\n",
    "\n",
    "Running this cell might take a while. You can change the value of `n_entries` to only process the first `n_entries` entries."
   ]
  },
  {
   "cell_type": "code",
   "execution_count": 8,
   "id": "a6df01c0-e0b2-435f-8b50-755e66eb20bc",
   "metadata": {},
   "outputs": [
    {
     "name": "stderr",
     "output_type": "stream",
     "text": [
      "100%|█████████████████████████████████████████| 445/445 [07:42<00:00,  1.04s/it]\n"
     ]
    }
   ],
   "source": [
    "entries = df[\"text\"].tolist()\n",
    "\n",
    "history = [\n",
    "    (prompt, good_answer),    \n",
    "    # (rebellion_question, rebellion_answer),\n",
    "    # (ambassador_question, ambassador_answer),\n",
    "]\n",
    "\n",
    "responses = []\n",
    "n_entries = None # set to an integer (50, 100, ..) to restrict the number of entries processed\n",
    "\n",
    "for entry in tqdm(entries[:n_entries]):\n",
    "    new_question_formatted = new_question_template.format(entry=entry)\n",
    "    response = prompt_model(new_question_formatted, history)\n",
    "    responses.append(response)"
   ]
  },
  {
   "cell_type": "code",
   "execution_count": 9,
   "id": "d65037ba-052d-438b-8283-881ae9256c75",
   "metadata": {},
   "outputs": [
    {
     "name": "stdout",
     "output_type": "stream",
     "text": [
      "Here is the extracted bibliographic data in JSON format:\n",
      "\n",
      "```\n",
      "{\n",
      "  \"author\": \"Sturmii\",\n",
      "  \"title\": \"Mathesis Compendiaria\",\n",
      "  \"translator\": null,\n",
      "  \"date\": null,\n",
      "  \"place\": null,\n",
      "  \"format\": null,\n",
      "  \"other\": null\n",
      "}\n",
      "```\n"
     ]
    }
   ],
   "source": [
    "print(responses[10])"
   ]
  },
  {
   "cell_type": "code",
   "execution_count": 10,
   "id": "58cc0474-d96d-4749-9e9c-1a701f20c130",
   "metadata": {},
   "outputs": [
    {
     "data": {
      "text/plain": [
       "{'author': 'Sturmii',\n",
       " 'title': 'Mathesis Compendiaria',\n",
       " 'translator': None,\n",
       " 'date': None,\n",
       " 'place': None,\n",
       " 'format': None,\n",
       " 'other': None}"
      ]
     },
     "execution_count": 10,
     "metadata": {},
     "output_type": "execute_result"
    }
   ],
   "source": [
    "get_json_from_text(responses[10])"
   ]
  },
  {
   "cell_type": "code",
   "execution_count": 11,
   "id": "76f82119-4ba6-4a1b-bd24-a70450acce70",
   "metadata": {},
   "outputs": [],
   "source": [
    "json_objects = [get_json_from_text(response) for response in responses]"
   ]
  },
  {
   "cell_type": "code",
   "execution_count": 12,
   "id": "9e4e033c-9c1c-41d7-8826-d063e9fd9074",
   "metadata": {},
   "outputs": [],
   "source": [
    "df_structured = pd.DataFrame(json_objects)"
   ]
  },
  {
   "cell_type": "code",
   "execution_count": 13,
   "id": "cc2af8d1-1ac5-4293-9b08-97ec1bc7670a",
   "metadata": {},
   "outputs": [
    {
     "data": {
      "text/html": [
       "<div>\n",
       "<style scoped>\n",
       "    .dataframe tbody tr th:only-of-type {\n",
       "        vertical-align: middle;\n",
       "    }\n",
       "\n",
       "    .dataframe tbody tr th {\n",
       "        vertical-align: top;\n",
       "    }\n",
       "\n",
       "    .dataframe thead th {\n",
       "        text-align: right;\n",
       "    }\n",
       "</style>\n",
       "<table border=\"1\" class=\"dataframe\">\n",
       "  <thead>\n",
       "    <tr style=\"text-align: right;\">\n",
       "      <th></th>\n",
       "      <th>author</th>\n",
       "      <th>title</th>\n",
       "      <th>translator</th>\n",
       "      <th>date</th>\n",
       "      <th>place</th>\n",
       "      <th>format</th>\n",
       "      <th>other</th>\n",
       "    </tr>\n",
       "  </thead>\n",
       "  <tbody>\n",
       "    <tr>\n",
       "      <th>0</th>\n",
       "      <td>None</td>\n",
       "      <td>BIBLE</td>\n",
       "      <td>None</td>\n",
       "      <td>1727</td>\n",
       "      <td>Oxford</td>\n",
       "      <td>Folio</td>\n",
       "      <td>compleat</td>\n",
       "    </tr>\n",
       "    <tr>\n",
       "      <th>1</th>\n",
       "      <td>None</td>\n",
       "      <td>None</td>\n",
       "      <td>None</td>\n",
       "      <td>None</td>\n",
       "      <td>None</td>\n",
       "      <td>None</td>\n",
       "      <td>with Maps, Notes, &amp;c.</td>\n",
       "    </tr>\n",
       "    <tr>\n",
       "      <th>2</th>\n",
       "      <td>Clarendon's</td>\n",
       "      <td>History of the Rebellion</td>\n",
       "      <td>None</td>\n",
       "      <td>None</td>\n",
       "      <td>None</td>\n",
       "      <td>3 Vols</td>\n",
       "      <td>None</td>\n",
       "    </tr>\n",
       "    <tr>\n",
       "      <th>3</th>\n",
       "      <td>Bayley's</td>\n",
       "      <td>universal etimologlcal Dictionary</td>\n",
       "      <td>None</td>\n",
       "      <td>None</td>\n",
       "      <td>None</td>\n",
       "      <td>None</td>\n",
       "      <td>None</td>\n",
       "    </tr>\n",
       "    <tr>\n",
       "      <th>4</th>\n",
       "      <td>Marlorati</td>\n",
       "      <td>Thesaurus Scripturae</td>\n",
       "      <td>None</td>\n",
       "      <td>None</td>\n",
       "      <td>None</td>\n",
       "      <td>None</td>\n",
       "      <td>None</td>\n",
       "    </tr>\n",
       "  </tbody>\n",
       "</table>\n",
       "</div>"
      ],
      "text/plain": [
       "        author                              title translator  date   place  \\\n",
       "0         None                              BIBLE       None  1727  Oxford   \n",
       "1         None                               None       None  None    None   \n",
       "2  Clarendon's           History of the Rebellion       None  None    None   \n",
       "3     Bayley's  universal etimologlcal Dictionary       None  None    None   \n",
       "4    Marlorati               Thesaurus Scripturae       None  None    None   \n",
       "\n",
       "   format                  other  \n",
       "0   Folio               compleat  \n",
       "1    None  with Maps, Notes, &c.  \n",
       "2  3 Vols                   None  \n",
       "3    None                   None  \n",
       "4    None                   None  "
      ]
     },
     "execution_count": 13,
     "metadata": {},
     "output_type": "execute_result"
    }
   ],
   "source": [
    "df_structured.head()"
   ]
  },
  {
   "cell_type": "code",
   "execution_count": 18,
   "id": "cf3a5222-f985-4fe7-a131-62180da43582",
   "metadata": {},
   "outputs": [],
   "source": [
    "df_structured.to_csv(\"franklin_structured.csv\")"
   ]
  },
  {
   "cell_type": "code",
   "execution_count": 17,
   "id": "34d79f2d-4665-4b22-8920-5daef5e259de",
   "metadata": {},
   "outputs": [
    {
     "data": {
      "image/png": "[encoded data removed]",
      "text/plain": [
       "<Figure size 640x480 with 1 Axes>"
      ]
     },
     "metadata": {},
     "output_type": "display_data"
    }
   ],
   "source": [
    "# look at Benjamin Franklin's top 5 authors\n",
    "fig, ax = plt.subplots()\n",
    "df_structured[\"author\"].value_counts().iloc[:5].plot(kind=\"barh\", ax=ax);\n",
    "ax.xaxis.set_major_locator(plt.MaxNLocator(integer=True))\n",
    "ax.invert_yaxis()\n",
    "\n",
    "plt.savefig(\"barplot.png\")"
   ]
  },
  {
   "cell_type": "code",
   "execution_count": null,
   "id": "2b579d88-fc22-41ce-acc3-7e7db5a030ca",
   "metadata": {},
   "outputs": [],
   "source": []
  }
 ],
 "metadata": {
  "kernelspec": {
   "display_name": "Python 3 (ipykernel)",
   "language": "python",
   "name": "python3"
  },
  "language_info": {
   "codemirror_mode": {
    "name": "ipython",
    "version": 3
   },
   "file_extension": ".py",
   "mimetype": "text/x-python",
   "name": "python",
   "nbconvert_exporter": "python",
   "pygments_lexer": "ipython3",
   "version": "3.10.12"
  }
 },
 "nbformat": 4,
 "nbformat_minor": 5
}
